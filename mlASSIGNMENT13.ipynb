{
  "nbformat": 4,
  "nbformat_minor": 0,
  "metadata": {
    "colab": {
      "provenance": []
    },
    "kernelspec": {
      "name": "python3",
      "display_name": "Python 3"
    },
    "language_info": {
      "name": "python"
    }
  },
  "cells": [
    {
      "cell_type": "markdown",
      "source": [
        "\n",
        "\n",
        "---1. Provide an example of the concepts of Prior, Posterior, and Likelihood.\n",
        "\n",
        "\n"
      ],
      "metadata": {
        "id": "hw0Xcmmw8JdR"
      }
    },
    {
      "cell_type": "code",
      "execution_count": 5,
      "metadata": {
        "colab": {
          "base_uri": "https://localhost:8080/"
        },
        "id": "rwl4vfxN8FgD",
        "outputId": "2fb56c80-f231-48b7-bad2-1fac9e854df9"
      },
      "outputs": [
        {
          "output_type": "stream",
          "name": "stdout",
          "text": [
            "Prior probability: 0.5\n",
            "Likelihood: 0.8\n",
            "Posterior probability: 1.0\n"
          ]
        }
      ],
      "source": [
        "#Let's say we have a biased coin and we want to estimate the probability of obtaining a head (H) when flipping the coin. We have some prior belief about the bias of the coin, and after observing some flips, we update our belief to obtain a posterior probability.\n",
        "\n",
        "def compute_posterior(prior, likelihood):\n",
        "    posterior = (prior * likelihood) / (prior * likelihood)\n",
        "    return posterior\n",
        "\n",
        "\n",
        "prior = 0.5  \n",
        "likelihood = 0.8  \n",
        "\n",
        "posterior = compute_posterior(prior, likelihood)\n",
        "\n",
        "print(\"Prior probability:\", prior)\n",
        "print(\"Likelihood:\", likelihood)\n",
        "print(\"Posterior probability:\", posterior)\n"
      ]
    },
    {
      "cell_type": "markdown",
      "source": [
        "2. What role does Bayes' theorem play in the concept learning principle?\n"
      ],
      "metadata": {
        "id": "NDU5EYgJ8c3U"
      }
    },
    {
      "cell_type": "code",
      "source": [
        "#Bayes' theorem plays a fundamental role in the concept learning principle by enabling us to update our beliefs about a concept based on new evidence or data. It provides a way to incorporate prior knowledge and update it with observed information to obtain a posterior probability."
      ],
      "metadata": {
        "id": "2-r06w3H8agi"
      },
      "execution_count": 6,
      "outputs": []
    },
    {
      "cell_type": "markdown",
      "source": [
        "3. Offer an example of how the Nave Bayes classifier is used in real life.\n"
      ],
      "metadata": {
        "id": "dBLjZRZd9HgZ"
      }
    },
    {
      "cell_type": "code",
      "source": [
        "#One real-life example of how the Naive Bayes classifier is commonly used is in email spam detection. The Naive Bayes classifier is an effective algorithm for classifying emails as either spam or non-spam (ham) based on the content and other features of the email.\n",
        "\n",
        "from sklearn.feature_extraction.text import CountVectorizer\n",
        "from sklearn.naive_bayes import MultinomialNB\n",
        "\n",
        "\n",
        "emails = [\n",
        "    (\"Get a FREE gift card by clicking now!\", \"spam\"),\n",
        "    (\"Hey, how are you?\", \"ham\"),\n",
        "    (\"URGENT: Your account needs verification\", \"spam\"),\n",
        "    (\"Meeting at 3 PM today\", \"ham\")\n",
        "]\n",
        "\n",
        "vectorizer = CountVectorizer()\n",
        "X = vectorizer.fit_transform([email[0] for email in emails])\n",
        "y = [email[1] for email in emails]\n",
        "\n",
        "\n",
        "classifier = MultinomialNB()\n",
        "classifier.fit(X, y)\n",
        "\n",
        "new_email = \"Claim your prize today!\"\n",
        "X_test = vectorizer.transform([new_email])\n",
        "prediction = classifier.predict(X_test)\n",
        "\n",
        "print(\"New email:\", new_email)\n",
        "print(\"Prediction:\", prediction[0])\n"
      ],
      "metadata": {
        "colab": {
          "base_uri": "https://localhost:8080/"
        },
        "id": "dSl16ExJ9EPX",
        "outputId": "cb544115-0770-48bc-bcea-2f73ba469fc3"
      },
      "execution_count": 7,
      "outputs": [
        {
          "output_type": "stream",
          "name": "stdout",
          "text": [
            "New email: Claim your prize today!\n",
            "Prediction: ham\n"
          ]
        }
      ]
    },
    {
      "cell_type": "markdown",
      "source": [
        "4. Can the Nave Bayes classifier be used on continuous numeric data? If so, how can you go about doing it?\n"
      ],
      "metadata": {
        "id": "ta8HsxLj9g5y"
      }
    },
    {
      "cell_type": "code",
      "source": [
        "#the Naive Bayes classifier can be used on continuous numeric data. There are different variants of Naive Bayes classifiers that can handle continuous data, such as Gaussian Naive Bayes or Kernel Density Naive Bayes."
      ],
      "metadata": {
        "id": "45qS86nm9ba1"
      },
      "execution_count": 8,
      "outputs": []
    },
    {
      "cell_type": "markdown",
      "source": [
        "5. What are Bayesian Belief Networks, and how do they work? What are their applications? Are they capable of resolving a wide range of issues?\n"
      ],
      "metadata": {
        "id": "MTmgy1Y6-sVG"
      }
    },
    {
      "cell_type": "code",
      "source": [
        "#Bayesian Belief Networks (BBNs), also known as Bayesian Networks or Probabilistic Graphical Models, are probabilistic graphical models that represent and reason about uncertain relationships between variables. They are based on Bayesian probability theory and can model complex dependencies among variables.\n",
        "\n",
        "#The workings of BBNs involve probabilistic inference. Given the evidence (values of some variables), BBNs can calculate the posterior probability distribution of other variables in the network. This is done using the principles of Bayes' theorem and the graphical structure of the network to propagate information and update beliefs.\n",
        "#Medical Diagnosis: BBNs can be used to model symptoms, test results, and diseases to aid in medical diagnosis. By incorporating medical knowledge and patient data, BBNs can provide probabilistic assessments of different diagnoses.\n",
        "\n",
        "#Fraud Detection: BBNs can be employed to detect fraudulent activities in various domains, such as credit card transactions or insurance claims. By considering multiple variables and their relationships, BBNs can identify patterns and anomalies indicative of fraud.\n",
        "\n",
        "#Predictive Maintenance: BBNs can help predict equipment failures or malfunctions based on historical data, sensor readings, and environmental conditions. This enables proactive maintenance and reduces downtime.\n",
        "\n",
        "#Customer Behavior Analysis: BBNs can model customer preferences, behavior, and purchase patterns. By incorporating demographic data and customer interactions, BBNs can provide insights into customer segmentation, product recommendations, and marketing strategies.\n",
        "\n",
        "#Natural Language Processing: BBNs can be utilized in language understanding and processing tasks. They can model syntactic structures, semantic relationships, and word associations, assisting in tasks like machine translation, sentiment analysis, and question answering.\n",
        "\n",
        "#Environmental Monitoring: BBNs can analyze environmental data, including weather conditions, pollution levels, and ecological factors. They can provide probabilistic assessments of events like floods, wildfires, or species habitat suitability.\n",
        "\n",
        "#Risk Assessment: BBNs can assess and analyze risks in various fields, such as finance, engineering, or project management. By modeling uncertain variables and dependencies, BBNs help identify potential risks and their probabilities, enabling risk mitigation strategies.\n"
      ],
      "metadata": {
        "id": "mydlJGKC9vZy"
      },
      "execution_count": 9,
      "outputs": []
    },
    {
      "cell_type": "markdown",
      "source": [
        ". Passengers are checked in an airport screening system to see if there is an intruder. Let I be the random variable that indicates whether someone is an intruder I = 1) or not I = 0), and A be the variable that indicates alarm I = 0). If an intruder is detected with probability P(A = 1|I = 1) = 0.98 and a non-intruder is detected with probability P(A = 1|I = 0) = 0.001, an alarm will be triggered, implying the error factor. The likelihood of an intruder in the passenger population is P(I = 1) = 0.00001. What are the chances that an alarm would be triggered when an individual is actually an intruder?\n"
      ],
      "metadata": {
        "id": "jqcH_sGC-vdK"
      }
    },
    {
      "cell_type": "code",
      "source": [
        "p_i_given_a = 0.98\n",
        "p_i = 0.00001\n",
        "p_a = 0.98 * 0.00001 + 0.001 * (1 - 0.00001)\n",
        "\n",
        "p_a_given_i = (p_i_given_a * p_a) / p_i\n",
        "\n",
        "print(\"The chances that an alarm would be triggered when an individual is actually an intruder:\")\n",
        "print(p_a_given_i)\n"
      ],
      "metadata": {
        "colab": {
          "base_uri": "https://localhost:8080/"
        },
        "id": "F5djk_Fe-mwm",
        "outputId": "e8f0f546-877f-4554-add2-3086c4d6f56c"
      },
      "execution_count": 10,
      "outputs": [
        {
          "output_type": "stream",
          "name": "stdout",
          "text": [
            "The chances that an alarm would be triggered when an individual is actually an intruder:\n",
            "98.95942\n"
          ]
        }
      ]
    },
    {
      "cell_type": "markdown",
      "source": [
        " An antibiotic resistance test (random variable T) has 1% false positives (i.e., 1% of those who are not immune to an antibiotic display a positive result in the test) and 5% false negatives (i.e., 1% of those who are not resistant to an antibiotic show a positive result in the test) (i.e. 5 percent of those actually resistant to an antibiotic test negative). Assume that 2% of those who were screened were antibiotic-resistant. Calculate the likelihood that a person who tests positive is actually immune (random variable D).\n"
      ],
      "metadata": {
        "id": "L8vz4SvS_DG4"
      }
    },
    {
      "cell_type": "code",
      "source": [
        "p_t_given_d0 = 0.01\n",
        "p_t_given_d1 = 1 - 0.05\n",
        "p_d = 0.02\n",
        "p_t = p_t_given_d0 * (1 - p_d) + p_t_given_d1 * p_d\n",
        "\n",
        "p_d_given_t = (p_t_given_d1 * p_d) / p_t\n",
        "\n",
        "print(\"The likelihood that a person who tests positive is actually immune:\")\n",
        "print(p_d_given_t)\n"
      ],
      "metadata": {
        "colab": {
          "base_uri": "https://localhost:8080/"
        },
        "id": "Ab5ZrGTW_B24",
        "outputId": "08283d2e-e1e5-427e-c6b7-666b7b5c6fa3"
      },
      "execution_count": 11,
      "outputs": [
        {
          "output_type": "stream",
          "name": "stdout",
          "text": [
            "The likelihood that a person who tests positive is actually immune:\n",
            "0.6597222222222222\n"
          ]
        }
      ]
    },
    {
      "cell_type": "markdown",
      "source": [
        "In order to prepare for the test, a student knows that there will be one question in the exam that is either form A, B, or C. The chances of getting an A, B, or C on the exam are 30 percent, 20%, and 50 percent, respectively. During the planning, the student solved 9 of 10 type A problems, 2 of 10 type B problems, and 6 of 10 type C problems.\n",
        "\n",
        "         1. What is the likelihood that the student can solve the exam problem?\n",
        "\n",
        "         2. Given the student's solution, what is the likelihood that the problem was of form A?\n",
        "\n"
      ],
      "metadata": {
        "id": "5lNgWlT4_xX6"
      }
    },
    {
      "cell_type": "code",
      "source": [
        "p_a = 0.30\n",
        "p_b = 0.20\n",
        "p_c = 0.50\n",
        "\n",
        "p_s_given_a = 9/10\n",
        "p_s_given_b = 2/10\n",
        "p_s_given_c = 6/10\n",
        "\n",
        "p_s = p_s_given_a * p_a + p_s_given_b * p_b + p_s_given_c * p_c\n",
        "\n",
        "\n",
        "print(\"Likelihood that the student can solve the exam problem:\")\n",
        "print(p_s)\n",
        "\n",
        "p_a_given_s = (p_s_given_a * p_a) / p_s\n",
        "\n",
        "print(\"Likelihood that the problem was of form A given the student's solution:\")\n",
        "print(p_a_given_s)\n"
      ],
      "metadata": {
        "colab": {
          "base_uri": "https://localhost:8080/"
        },
        "id": "YD8RmI0P_hU4",
        "outputId": "322a5a67-607f-4035-c0c7-53cfa9093733"
      },
      "execution_count": 12,
      "outputs": [
        {
          "output_type": "stream",
          "name": "stdout",
          "text": [
            "Likelihood that the student can solve the exam problem:\n",
            "0.6100000000000001\n",
            "Likelihood that the problem was of form A given the student's solution:\n",
            "0.44262295081967207\n"
          ]
        }
      ]
    },
    {
      "cell_type": "markdown",
      "source": [
        "A bank installs a CCTV system to track and photograph incoming customers. Despite the constant influx of customers, we divide the timeline into 5 minute bins. There may be a customer coming into the bank with a 5% chance in each 5-minute time period, or there may be no customer (again, for simplicity, we assume that either there is 1 customer or none, not the case of multiple customers). If there is a client, the CCTV will detect them with a 99 percent probability. If there is no customer, the camera can take a false photograph with a 10% chance of detecting movement from other objects.\n",
        "\n",
        "                1. How many customers come into the bank on a daily basis (10 hours)?\n",
        "\n",
        "                2. On a daily basis, how many fake photographs (photographs taken when there is no customer) and how many missed photographs (photographs taken when there is a customer) are there?\n",
        "\n",
        "                3. Explain likelihood that there is a customer if there is a photograph?\n"
      ],
      "metadata": {
        "id": "v_7sE1gT_4ML"
      }
    },
    {
      "cell_type": "code",
      "source": [
        "#1.Each 5-minute time period has a 5% chance of a customer coming in.\n",
        "#There are 10 hours in a day, which is equivalent to 600 minutes.\n",
        "#The number of 5-minute time periods in 10 hours is 600 / 5 = 120.\n",
        "#Therefore, the expected number of customers coming into the bank on a daily basis is 5% of 120 = 0.05 * 120 = 6 customers.\n",
        "\n",
        "\n",
        "\n",
        "\n",
        "#2False photograph (when there is no customer): The camera can take a false photograph with a 10% chance in each 5-minute time period.\n",
        "#Missed photograph (when there is a customer): The camera detects the customer with a 99% probability in each 5-minute time period.\n",
        "#To calculate the expected number of fake photographs and missed photographs on a daily basis, we can use the probabilities:\n",
        "#Expected number of fake photographs = 10% of 120 = 0.10 * 120 = 12 photographs\n",
        "#Expected number of missed photographs = 1% (1 - 99%) of 120 = 0.01 * 120 = 1.2 photographs\n",
        "#Since we cannot have fractional photographs, we can round the values:\n",
        "\n",
        "#Expected number of fake photographs = 12 (rounded)\n",
        "#Expected number of missed photographs = 1 (rounded)\n",
        "\n",
        "\n",
        "\n",
        "#3.We want to calculate the likelihood that there is a customer given that there is a photograph.\n",
        "#This can be determined using Bayes' theorem:\n",
        "#P(Customer|Photograph) = (P(Photograph|Customer) * P(Customer)) / P(Photograph)\n",
        "#P(Photograph|Customer) = 1 (since the CCTV detects the customer with 99% probability)\n",
        "#P(Customer) = 0.05 (probability of a customer coming in a 5-minute time period)\n",
        "#P(Photograph) = P(Photograph|Customer) * P(Customer) + P(Photograph|No Customer) * P(No Customer)\n",
        "#P(Photograph|No Customer) = 10% (false positive rate)\n",
        "#P(No Customer) = 1 - P(Customer) = 1 - 0.05 = 0.95\n",
        "\n",
        "\n"
      ],
      "metadata": {
        "id": "rVya8G9y_uq5"
      },
      "execution_count": 13,
      "outputs": []
    },
    {
      "cell_type": "code",
      "source": [
        "p_photograph_given_customer = 1\n",
        "p_customer = 0.05\n",
        "p_photograph_given_no_customer = 0.10\n",
        "p_no_customer = 1 - p_customer\n",
        "\n",
        "p_photograph = p_photograph_given_customer * p_customer + p_photograph_given_no_customer * p_no_customer\n",
        "\n",
        "p_customer_given_photograph = (p_photograph_given_customer * p_customer) / p_photograph\n",
        "\n",
        "print(\"Likelihood that there is a customer if there is a photograph:\")\n",
        "print(p_customer_given_photograph)\n"
      ],
      "metadata": {
        "colab": {
          "base_uri": "https://localhost:8080/"
        },
        "id": "_RMmFf6R_1xR",
        "outputId": "82dd23ef-dc91-452f-eb57-e0823685fa76"
      },
      "execution_count": 14,
      "outputs": [
        {
          "output_type": "stream",
          "name": "stdout",
          "text": [
            "Likelihood that there is a customer if there is a photograph:\n",
            "0.3448275862068965\n"
          ]
        }
      ]
    },
    {
      "cell_type": "markdown",
      "source": [
        "Create the conditional probability table associated with the node Won Toss in the Bayesian Belief network to represent the conditional independence assumptions of the Nave Bayes classifier for the match winning prediction problem in Section 6.4.4.\n"
      ],
      "metadata": {
        "id": "yNeUVsT7A5wC"
      }
    },
    {
      "cell_type": "code",
      "source": [
        "# Define the conditional probabilities for the \"Won Toss\" variable\n",
        "won_toss_cpt = {\n",
        "    'Win': {\n",
        "        'Yes': 0.7,\n",
        "        'No': 0.3\n",
        "    },\n",
        "    'Lose': {\n",
        "        'Yes': 0.4,\n",
        "        'No': 0.6\n",
        "    },\n",
        "    'Draw': {\n",
        "        'Yes': 0.5,\n",
        "        'No': 0.5\n",
        "    }\n",
        "}\n",
        "\n",
        "# Accessing the conditional probabilities\n",
        "print(\"P(Won Toss = Yes | Win) =\", won_toss_cpt['Win']['Yes'])\n",
        "print(\"P(Won Toss = No | Lose) =\", won_toss_cpt['Lose']['No'])\n",
        "print(\"P(Won Toss = Yes | Draw) =\", won_toss_cpt['Draw']['Yes'])\n"
      ],
      "metadata": {
        "colab": {
          "base_uri": "https://localhost:8080/"
        },
        "id": "-POnbly_A4RL",
        "outputId": "04c29f0a-3939-4102-caf1-009f537d195f"
      },
      "execution_count": 15,
      "outputs": [
        {
          "output_type": "stream",
          "name": "stdout",
          "text": [
            "P(Won Toss = Yes | Win) = 0.7\n",
            "P(Won Toss = No | Lose) = 0.6\n",
            "P(Won Toss = Yes | Draw) = 0.5\n"
          ]
        }
      ]
    },
    {
      "cell_type": "code",
      "source": [],
      "metadata": {
        "id": "EUIMjptXBKhz"
      },
      "execution_count": null,
      "outputs": []
    }
  ]
}